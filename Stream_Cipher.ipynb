{
  "nbformat": 4,
  "nbformat_minor": 0,
  "metadata": {
    "colab": {
      "provenance": [],
      "authorship_tag": "ABX9TyN/1o34y/Dbs9WR9uZ/8+9o",
      "include_colab_link": true
    },
    "kernelspec": {
      "name": "python3",
      "display_name": "Python 3"
    },
    "language_info": {
      "name": "python"
    }
  },
  "cells": [
    {
      "cell_type": "markdown",
      "metadata": {
        "id": "view-in-github",
        "colab_type": "text"
      },
      "source": [
        "<a href=\"https://colab.research.google.com/github/Chesterrfoo/Cryptography-Design-Implementation/blob/main/Stream_Cipher.ipynb\" target=\"_parent\"><img src=\"https://colab.research.google.com/assets/colab-badge.svg\" alt=\"Open In Colab\"/></a>"
      ]
    },
    {
      "cell_type": "code",
      "source": [
        "# ============================================================\n",
        "# Stream Cipher: MangoTango\n",
        "# ============================================================\n",
        "# Design: Custom LFSR-based stream cipher with nonlinear combiner.\n",
        "# Purpose: Encrypts and decrypts user-provided plaintext.\n",
        "# ============================================================\n",
        "\n",
        "import hashlib\n",
        "from typing import Tuple\n",
        "\n",
        "# ---------- Implementation Section ----------\n",
        "class LFSR:\n",
        "    def __init__(self, size:int, taps:Tuple[int,...], seed:int):\n",
        "        self.size = size\n",
        "        self.taps = taps\n",
        "        self.state = seed & ((1 << size) - 1)\n",
        "\n",
        "    def clock(self) -> int:\n",
        "        fb = 0\n",
        "        for t in self.taps:\n",
        "            fb ^= (self.state >> (self.size - t)) & 1\n",
        "        out = self.state & 1\n",
        "        self.state = ((self.state >> 1) | (fb << (self.size - 1))) & ((1 << self.size) - 1)\n",
        "        return out\n",
        "\n",
        "def nonlinear_mix(a:int, b:int, s:int) -> int:\n",
        "    return (a & (~b) | (~a & ((s >> 3) & 1))) & 1\n",
        "\n",
        "class KiteStream25:\n",
        "    NAME = \"MangoTango\"\n",
        "    def __init__(self, key:bytes, iv:bytes):\n",
        "        seed = hashlib.sha256(key + iv).digest()\n",
        "        s1_seed = int.from_bytes(seed[:4], 'big') ^ 0xA5A5A5A5\n",
        "        s2_seed = int.from_bytes(seed[4:8], 'big') ^ 0x5A5A5A5A\n",
        "        self.l1 = LFSR(31, (31, 28), s1_seed)\n",
        "        self.l2 = LFSR(29, (29, 27), s2_seed)\n",
        "        self.state = int.from_bytes(seed[8:16], 'big')\n",
        "\n",
        "    def keystream_byte(self) -> int:\n",
        "        b = 0\n",
        "        for i in range(8):\n",
        "            a = self.l1.clock()\n",
        "            c = self.l2.clock()\n",
        "            m = nonlinear_mix(a, c, self.state)\n",
        "            bit = 1 if (a + c + m) >= 2 else 0\n",
        "            b = (b << 1) | bit\n",
        "            if i % 3 == 0:\n",
        "                self.state ^= ((a << 3) | (c << 7)) & 0xFFFFFFFFFFFFFFFF\n",
        "        return b\n",
        "\n",
        "    def keystream(self, n:int) -> bytes:\n",
        "        return bytes(self.keystream_byte() for _ in range(n))\n",
        "\n",
        "    def encrypt(self, plaintext:bytes) -> bytes:\n",
        "        ks = self.keystream(len(plaintext))\n",
        "        return bytes(p ^ k for p, k in zip(plaintext, ks))\n",
        "\n",
        "    def decrypt(self, ciphertext:bytes) -> bytes:\n",
        "        return self.encrypt(ciphertext)  # symmetric\n",
        "\n",
        "\n",
        "# ---------- Demo Section ----------\n",
        "if __name__ == \"__main__\":\n",
        "    print(\"\\n===== MangoTango Stream Cipher Demo =====\")\n",
        "\n",
        "    # User inputs plaintext\n",
        "    plaintext = input(\"Enter plaintext to encrypt: \").encode()\n",
        "\n",
        "    # Key and IV can be constants or user-provided for testing\n",
        "    key = b\"demo-stream-key-01\"\n",
        "    iv  = b\"unique-iv-01\"\n",
        "\n",
        "    # Initialize cipher\n",
        "    cipher = KiteStream25(key, iv)\n",
        "\n",
        "    # Encrypt and decrypt\n",
        "    ciphertext = cipher.encrypt(plaintext)\n",
        "    cipher2 = KiteStream25(key, iv)\n",
        "    decrypted = cipher2.decrypt(ciphertext)\n",
        "\n",
        "    # Display results\n",
        "    print(\"\\n[+] Encryption complete!\")\n",
        "    print(\"Ciphertext (hex):\", ciphertext.hex())\n",
        "    print(\"Decrypted text:  \", decrypted.decode())\n",
        "\n",
        "    # Verification\n",
        "    if decrypted == plaintext:\n",
        "        print(\"\\n Success: Decryption matches original plaintext.\")\n",
        "    else:\n",
        "        print(\"\\n Error: Decrypted text does not match.\")\n"
      ],
      "metadata": {
        "colab": {
          "base_uri": "https://localhost:8080/"
        },
        "id": "w8OvixX4BnI4",
        "outputId": "02415d0c-b4dd-4b63-8f05-248b9343d863"
      },
      "execution_count": 9,
      "outputs": [
        {
          "output_type": "stream",
          "name": "stdout",
          "text": [
            "\n",
            "===== MangoTango Stream Cipher Demo =====\n",
            "Enter plaintext to encrypt: Good morning\n",
            "\n",
            "[+] Encryption complete!\n",
            "Ciphertext (hex): b83a3544db12713f9f66018c\n",
            "Decrypted text:   Good morning\n",
            "\n",
            " Success: Decryption matches original plaintext.\n"
          ]
        }
      ]
    }
  ]
}